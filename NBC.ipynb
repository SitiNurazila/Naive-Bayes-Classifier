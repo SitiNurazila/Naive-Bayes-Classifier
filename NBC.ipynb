{
 "cells": [
  {
   "cell_type": "code",
   "execution_count": 1,
   "id": "8eaf0277",
   "metadata": {},
   "outputs": [],
   "source": [
    "import pandas as pd\n",
    "import numpy as np\n",
    "import matplotlib.pyplot as plt\n",
    "\n",
    "from sklearn.preprocessing import LabelEncoder\n",
    "from sklearn.metrics import accuracy_score, f1_score, classification_report, confusion_matrix, accuracy_score\n",
    "from sklearn.feature_extraction.text import TfidfVectorizer\n",
    "from sklearn.naive_bayes import GaussianNB"
   ]
  },
  {
   "cell_type": "code",
   "execution_count": 2,
   "id": "54acfb63",
   "metadata": {},
   "outputs": [],
   "source": [
    "def read_file(filename):\n",
    "    data = pd.read_csv(filename)\n",
    "    print(data.shape)\n",
    "    data['label'] = data['label'].apply(lambda x: x.strip().lower())\n",
    "    return data"
   ]
  },
  {
   "cell_type": "code",
   "execution_count": 3,
   "id": "0ff2d831",
   "metadata": {},
   "outputs": [],
   "source": [
    "datatrain = 'mandalika21032022_edit1_cleanbobot401.csv'\n",
    "datatest = 'mandalika29032022_hapususer30_cleanLABELING.csv'"
   ]
  },
  {
   "cell_type": "code",
   "execution_count": 4,
   "id": "1513ce28",
   "metadata": {},
   "outputs": [
    {
     "name": "stdout",
     "output_type": "stream",
     "text": [
      "(40, 2)\n",
      "(24, 2)\n"
     ]
    }
   ],
   "source": [
    "data_ho_train = read_file(datatrain)\n",
    "data_ho_test = read_file(datatest)"
   ]
  },
  {
   "cell_type": "code",
   "execution_count": 5,
   "id": "0ee26ad0",
   "metadata": {},
   "outputs": [
    {
     "data": {
      "text/html": [
       "<div>\n",
       "<style scoped>\n",
       "    .dataframe tbody tr th:only-of-type {\n",
       "        vertical-align: middle;\n",
       "    }\n",
       "\n",
       "    .dataframe tbody tr th {\n",
       "        vertical-align: top;\n",
       "    }\n",
       "\n",
       "    .dataframe thead th {\n",
       "        text-align: right;\n",
       "    }\n",
       "</style>\n",
       "<table border=\"1\" class=\"dataframe\">\n",
       "  <thead>\n",
       "    <tr style=\"text-align: right;\">\n",
       "      <th></th>\n",
       "      <th>tweet_clean</th>\n",
       "      <th>label</th>\n",
       "      <th>targetTR</th>\n",
       "    </tr>\n",
       "  </thead>\n",
       "  <tbody>\n",
       "    <tr>\n",
       "      <th>0</th>\n",
       "      <td>['acara', 'motogp', 'mandalika', 'ubah', 'cek'...</td>\n",
       "      <td>positif</td>\n",
       "      <td>1</td>\n",
       "    </tr>\n",
       "    <tr>\n",
       "      <th>1</th>\n",
       "      <td>['data', 'tarik', 'statistik', 'juara', 'dunia...</td>\n",
       "      <td>positif</td>\n",
       "      <td>1</td>\n",
       "    </tr>\n",
       "    <tr>\n",
       "      <th>2</th>\n",
       "      <td>['kenal', 'baju', 'putih', 'senggol', 'dong']</td>\n",
       "      <td>positif</td>\n",
       "      <td>1</td>\n",
       "    </tr>\n",
       "    <tr>\n",
       "      <th>3</th>\n",
       "      <td>['pawang', 'hujan', 'nusantara', 'fakta', 'sul...</td>\n",
       "      <td>positif</td>\n",
       "      <td>1</td>\n",
       "    </tr>\n",
       "    <tr>\n",
       "      <th>4</th>\n",
       "      <td>['pawang', 'hujan', 'ada', 'marching', 'band']</td>\n",
       "      <td>positif</td>\n",
       "      <td>1</td>\n",
       "    </tr>\n",
       "  </tbody>\n",
       "</table>\n",
       "</div>"
      ],
      "text/plain": [
       "                                         tweet_clean    label  targetTR\n",
       "0  ['acara', 'motogp', 'mandalika', 'ubah', 'cek'...  positif         1\n",
       "1  ['data', 'tarik', 'statistik', 'juara', 'dunia...  positif         1\n",
       "2      ['kenal', 'baju', 'putih', 'senggol', 'dong']  positif         1\n",
       "3  ['pawang', 'hujan', 'nusantara', 'fakta', 'sul...  positif         1\n",
       "4     ['pawang', 'hujan', 'ada', 'marching', 'band']  positif         1"
      ]
     },
     "execution_count": 5,
     "metadata": {},
     "output_type": "execute_result"
    }
   ],
   "source": [
    "target_encoder = LabelEncoder()\n",
    "data_ho_train['targetTR'] = target_encoder.fit_transform(data_ho_train['label'])\n",
    "data_ho_test['targetTS'] = target_encoder.transform(data_ho_test['label'])\n",
    "data_ho_train.head()"
   ]
  },
  {
   "cell_type": "code",
   "execution_count": 6,
   "id": "82304f04",
   "metadata": {},
   "outputs": [
    {
     "data": {
      "text/html": [
       "<div>\n",
       "<style scoped>\n",
       "    .dataframe tbody tr th:only-of-type {\n",
       "        vertical-align: middle;\n",
       "    }\n",
       "\n",
       "    .dataframe tbody tr th {\n",
       "        vertical-align: top;\n",
       "    }\n",
       "\n",
       "    .dataframe thead th {\n",
       "        text-align: right;\n",
       "    }\n",
       "</style>\n",
       "<table border=\"1\" class=\"dataframe\">\n",
       "  <thead>\n",
       "    <tr style=\"text-align: right;\">\n",
       "      <th></th>\n",
       "      <th>targetTR</th>\n",
       "    </tr>\n",
       "  </thead>\n",
       "  <tbody>\n",
       "    <tr>\n",
       "      <th>0</th>\n",
       "      <td>1</td>\n",
       "    </tr>\n",
       "    <tr>\n",
       "      <th>1</th>\n",
       "      <td>1</td>\n",
       "    </tr>\n",
       "    <tr>\n",
       "      <th>2</th>\n",
       "      <td>1</td>\n",
       "    </tr>\n",
       "    <tr>\n",
       "      <th>3</th>\n",
       "      <td>1</td>\n",
       "    </tr>\n",
       "    <tr>\n",
       "      <th>4</th>\n",
       "      <td>1</td>\n",
       "    </tr>\n",
       "  </tbody>\n",
       "</table>\n",
       "</div>"
      ],
      "text/plain": [
       "   targetTR\n",
       "0         1\n",
       "1         1\n",
       "2         1\n",
       "3         1\n",
       "4         1"
      ]
     },
     "execution_count": 6,
     "metadata": {},
     "output_type": "execute_result"
    }
   ],
   "source": [
    "x_ho_train = data_ho_train.drop(['tweet_clean','label'], axis=1)\n",
    "y_ho_train = data_ho_train['targetTR']\n",
    "x_ho_train.head()\n",
    "x_ho_test = data_ho_test.drop(['tweet_clean','label'], axis=1)\n",
    "y_ho_test = data_ho_test['targetTS']\n",
    "x_ho_train.head()"
   ]
  },
  {
   "cell_type": "code",
   "execution_count": 7,
   "id": "7c0f146c",
   "metadata": {},
   "outputs": [
    {
     "name": "stdout",
     "output_type": "stream",
     "text": [
      "[[0.         0.33707422 0.         ... 0.         0.         0.        ]\n",
      " [0.         0.         0.         ... 0.         0.         0.        ]\n",
      " [0.         0.         0.         ... 0.         0.         0.        ]\n",
      " ...\n",
      " [0.         0.         0.         ... 0.         0.         0.        ]\n",
      " [0.30904943 0.         0.         ... 0.         0.         0.30904943]\n",
      " [0.         0.         0.         ... 0.         0.         0.        ]]\n"
     ]
    }
   ],
   "source": [
    "vectorizer = TfidfVectorizer (max_features=2500)\n",
    "model_g = GaussianNB()\n",
    "\n",
    "v_data = vectorizer.fit_transform(data_ho_train['tweet_clean']).toarray()\n",
    "print (v_data)"
   ]
  },
  {
   "cell_type": "code",
   "execution_count": 8,
   "id": "dfb56932",
   "metadata": {},
   "outputs": [
    {
     "data": {
      "text/plain": [
       "GaussianNB()"
      ]
     },
     "execution_count": 8,
     "metadata": {},
     "output_type": "execute_result"
    }
   ],
   "source": [
    "from sklearn.model_selection import train_test_split\n",
    "\n",
    "X_train, X_test, y_train, y_test = train_test_split(v_data, data_ho_train['label'], test_size=0.2, random_state=1)\n",
    "model_g.fit(X_train,y_train)"
   ]
  },
  {
   "cell_type": "code",
   "execution_count": 9,
   "id": "0eb48703",
   "metadata": {},
   "outputs": [
    {
     "name": "stdout",
     "output_type": "stream",
     "text": [
      "[[1 0]\n",
      " [0 7]]\n",
      "              precision    recall  f1-score   support\n",
      "\n",
      "     negatif       1.00      1.00      1.00         1\n",
      "     positif       1.00      1.00      1.00         7\n",
      "\n",
      "    accuracy                           1.00         8\n",
      "   macro avg       1.00      1.00      1.00         8\n",
      "weighted avg       1.00      1.00      1.00         8\n",
      "\n",
      "nilai akurasinya adalah  1.0\n"
     ]
    }
   ],
   "source": [
    "y_preds = model_g.predict(X_test)\n",
    "\n",
    "print(confusion_matrix(y_test,y_preds))\n",
    "print(classification_report(y_test,y_preds))\n",
    "print('nilai akurasinya adalah ',accuracy_score(y_test, y_preds))"
   ]
  },
  {
   "cell_type": "code",
   "execution_count": null,
   "id": "b8a0e4b0",
   "metadata": {},
   "outputs": [],
   "source": []
  }
 ],
 "metadata": {
  "kernelspec": {
   "display_name": "Python 3 (ipykernel)",
   "language": "python",
   "name": "python3"
  },
  "language_info": {
   "codemirror_mode": {
    "name": "ipython",
    "version": 3
   },
   "file_extension": ".py",
   "mimetype": "text/x-python",
   "name": "python",
   "nbconvert_exporter": "python",
   "pygments_lexer": "ipython3",
   "version": "3.9.7"
  }
 },
 "nbformat": 4,
 "nbformat_minor": 5
}
